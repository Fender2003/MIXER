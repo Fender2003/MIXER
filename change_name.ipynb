{
 "cells": [
  {
   "cell_type": "code",
   "execution_count": 7,
   "metadata": {},
   "outputs": [
    {
     "name": "stdout",
     "output_type": "stream",
     "text": [
      "Spaces replaced with underscores in MP3 filenames.\n"
     ]
    }
   ],
   "source": [
    "import os\n",
    "\n",
    "# Specify the directory containing your MP3 files\n",
    "directory_path = '/Users/dhruv/Dhruv/ML_KAGGLE/MIXER/music'\n",
    "\n",
    "# Iterate through all files in the directory\n",
    "for filename in os.listdir(directory_path):\n",
    "    if filename.endswith('.mp3'):\n",
    "        # Create the new filename by replacing spaces with underscores\n",
    "        new_filename = filename.replace(']', '_')\n",
    "        \n",
    "        # Construct the full paths\n",
    "        old_filepath = os.path.join(directory_path, filename)\n",
    "        new_filepath = os.path.join(directory_path, new_filename)\n",
    "        \n",
    "        # Rename the file\n",
    "        os.rename(old_filepath, new_filepath)\n",
    "\n",
    "print(\"Spaces replaced with underscores in MP3 filenames.\")\n"
   ]
  }
 ],
 "metadata": {
  "kernelspec": {
   "display_name": "Python 3",
   "language": "python",
   "name": "python3"
  },
  "language_info": {
   "codemirror_mode": {
    "name": "ipython",
    "version": 3
   },
   "file_extension": ".py",
   "mimetype": "text/x-python",
   "name": "python",
   "nbconvert_exporter": "python",
   "pygments_lexer": "ipython3",
   "version": "3.10.5"
  },
  "orig_nbformat": 4
 },
 "nbformat": 4,
 "nbformat_minor": 2
}
